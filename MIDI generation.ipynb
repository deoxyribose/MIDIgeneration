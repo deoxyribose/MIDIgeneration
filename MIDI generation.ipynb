{
 "cells": [
  {
   "cell_type": "code",
   "execution_count": 1,
   "metadata": {
    "scrolled": true
   },
   "outputs": [
    {
     "name": "stdout",
     "output_type": "stream",
     "text": [
      "pygame 1.9.6\n",
      "Hello from the pygame community. https://www.pygame.org/contribute.html\n"
     ]
    }
   ],
   "source": [
    "from itertools import chain\n",
    "import numpy as np\n",
    "from midiutil import *\n",
    "import pygame\n",
    "\n",
    "import subprocess\n",
    "from collections.abc import Sequence"
   ]
  },
  {
   "cell_type": "code",
   "execution_count": 2,
   "metadata": {},
   "outputs": [],
   "source": [
    "working_pygame = False\n",
    "\n",
    "track = 0\n",
    "channel = 0\n",
    "#pitch = 120\n",
    "pitch = 60\n",
    "pitch1 = 60\n",
    "time = 0\n",
    "duration = 1\n",
    "volume = 100\n"
   ]
  },
  {
   "cell_type": "code",
   "execution_count": 3,
   "metadata": {},
   "outputs": [],
   "source": [
    "def blank_midifile():\n",
    "    MyMIDI = MIDIFile(1)\n",
    "    return MyMIDI\n",
    "\n",
    "#for i in range(12):\n",
    "#    MyMIDI.addNote(track,channel,pitch+i,time+i,duration,volume)"
   ]
  },
  {
   "cell_type": "code",
   "execution_count": 4,
   "metadata": {},
   "outputs": [],
   "source": [
    "if working_pygame:\n",
    "    # mixer config\n",
    "    freq = 44100  # audio CD quality\n",
    "    bitsize = 16   # unsigned 16 bit\n",
    "    channels = 2  # 1 is mono, 2 is stereo\n",
    "    buffer = 1024   # number of samples\n",
    "    pygame.mixer.init(freq, bitsize, channels, buffer)\n",
    "\n",
    "    # optional volume 0 to 1.0\n",
    "    pygame.mixer.music.set_volume(0.8)\n",
    "\n",
    "    def play_music(midi_filename):\n",
    "        '''Stream music_file in a blocking manner'''\n",
    "        clock = pygame.time.Clock()\n",
    "        pygame.mixer.music.load(midi_filename)\n",
    "        pygame.mixer.music.play()\n",
    "        while pygame.mixer.music.get_busy():\n",
    "            clock.tick(30) # check if playback has finished\n",
    "else:\n",
    "    def play_music(midi_filename):\n",
    "        subprocess.run(['timidity', midi_filename])"
   ]
  },
  {
   "cell_type": "code",
   "execution_count": 5,
   "metadata": {},
   "outputs": [],
   "source": [
    "intervals = {'1':0,\n",
    "             'b1':1,\n",
    "             '2':2,\n",
    "             'b3':3,\n",
    "             '3':4,\n",
    "             '4':5,\n",
    "             'b5':6,\n",
    "             '5':7,\n",
    "             'b6':8,\n",
    "             '6':9,\n",
    "             'b7':10,\n",
    "             '7':11,\n",
    "             '8':12\n",
    "            }"
   ]
  },
  {
   "cell_type": "code",
   "execution_count": 6,
   "metadata": {},
   "outputs": [],
   "source": [
    "class Scale(Sequence):\n",
    "    def __init__(self, *constituents):\n",
    "        super(Scale, self).__init__()\n",
    "        self._list = constituents\n",
    "        \n",
    "    def __repr__(self):\n",
    "        return f\"<{self.__class__.__name__} {self._list}>\"\n",
    "    \n",
    "    def __len__(self):\n",
    "        return len(self._list)\n",
    "    \n",
    "    def __getitem__(self, ii):\n",
    "        if isinstance(ii, np.int64):\n",
    "            ii = int(ii)\n",
    "        if isinstance(ii, int):\n",
    "            relative_octave = 0\n",
    "            while ii < 0:\n",
    "                relative_octave -= 1\n",
    "                ii += len(self)\n",
    "            while len(self._list) <= ii:\n",
    "                relative_octave += 1\n",
    "                ii -= len(self)\n",
    "            return self._list[ii] + 12 * relative_octave\n",
    "        elif isinstance(ii, slice):\n",
    "            if ii.start is None:\n",
    "                ii = slice(0, ii.stop, ii.step)\n",
    "            if ii.stop is None:\n",
    "                ii = slice(ii.start, len(self), ii.step)\n",
    "            if ii.step is None:\n",
    "                ii = slice(ii.start, ii.stop, 1)\n",
    "            output = []\n",
    "            while ii.start < ii.stop:\n",
    "                output.append(self[ii.start])\n",
    "                ii = slice(ii.start+ii.step, ii.stop, ii.step)\n",
    "            return output\n",
    "        else:\n",
    "            raise TypeError(\"index must be int or slice\")\n",
    "    "
   ]
  },
  {
   "cell_type": "code",
   "execution_count": 7,
   "metadata": {},
   "outputs": [
    {
     "name": "stdout",
     "output_type": "stream",
     "text": [
      "7\n"
     ]
    },
    {
     "data": {
      "text/plain": [
       "[-8, -7, -5, -3, -1, 0, 2, 4, 5, 7, 9, 11, 12, 14, 16, 17, 19]"
      ]
     },
     "execution_count": 7,
     "metadata": {},
     "output_type": "execute_result"
    }
   ],
   "source": [
    "major = [0, 2, 4, 5, 7, 9, 11] + [12 + x for x in [0, 2, 4, 5, 7, 9, 11]]\n",
    "major_o = Scale(0, 2, 4, 5, 7, 9, 11)\n",
    "major_o = Scale(0, 2, 4, 5, 7, 9, 11)\n",
    "\n",
    "\n",
    "print(len(major_o))\n",
    "\n",
    "[major_o[x] for x in range(-5, 12)]"
   ]
  },
  {
   "cell_type": "code",
   "execution_count": 8,
   "metadata": {},
   "outputs": [
    {
     "data": {
      "text/plain": [
       "<Scale (0, 2, 4, 5, 7, 9, 11)>"
      ]
     },
     "execution_count": 8,
     "metadata": {},
     "output_type": "execute_result"
    }
   ],
   "source": [
    "major_o"
   ]
  },
  {
   "cell_type": "code",
   "execution_count": 9,
   "metadata": {},
   "outputs": [
    {
     "data": {
      "text/plain": [
       "[7, 11, 14, 17, 21]"
      ]
     },
     "execution_count": 9,
     "metadata": {},
     "output_type": "execute_result"
    }
   ],
   "source": [
    "def major_chord(chord_numeral, jazzness=0):\n",
    "    # take two octaves of scale, starting on chord_numeral\n",
    "    scale = major_o[chord_numeral-1:chord_numeral-1+7*2]\n",
    "    # take every other node and return triad + jazzness\n",
    "    return scale[::2][:3+jazzness]\n",
    "major_chord(5, 2)"
   ]
  },
  {
   "cell_type": "code",
   "execution_count": 278,
   "metadata": {},
   "outputs": [
    {
     "data": {
      "text/plain": [
       "[2, 4, 5, 7, 9, 11, 12]"
      ]
     },
     "execution_count": 278,
     "metadata": {},
     "output_type": "execute_result"
    }
   ],
   "source": [
    "[major_o[x] for x in range(1, 8)]"
   ]
  },
  {
   "cell_type": "code",
   "execution_count": 279,
   "metadata": {},
   "outputs": [
    {
     "data": {
      "text/plain": [
       "[7, 11, 14, 17, 21]"
      ]
     },
     "execution_count": 279,
     "metadata": {},
     "output_type": "execute_result"
    }
   ],
   "source": [
    "def modal_chord(chord_numeral, jazzness=0, mode = None):\n",
    "    if mode is None:\n",
    "        mode = 0\n",
    "    mode = [major_o[x] for x in range(mode, 2*7+mode)]\n",
    "    # take two octaves of scale, starting on chord_numeral\n",
    "    scale = mode[chord_numeral-1:chord_numeral-1+7*2]\n",
    "    # take every other node and return triad + jazzness\n",
    "    return scale[::2][:3+jazzness]\n",
    "major_chord(5, 2)"
   ]
  },
  {
   "cell_type": "code",
   "execution_count": 287,
   "metadata": {},
   "outputs": [
    {
     "data": {
      "text/plain": [
       "[2, 5, 9, 12]"
      ]
     },
     "execution_count": 287,
     "metadata": {},
     "output_type": "execute_result"
    }
   ],
   "source": [
    "modal_chord(2,1)"
   ]
  },
  {
   "cell_type": "code",
   "execution_count": 286,
   "metadata": {},
   "outputs": [
    {
     "data": {
      "text/plain": [
       "[2, 5, 9, 12]"
      ]
     },
     "execution_count": 286,
     "metadata": {},
     "output_type": "execute_result"
    }
   ],
   "source": [
    "modal_chord(1, 1, mode=1)"
   ]
  },
  {
   "cell_type": "code",
   "execution_count": 11,
   "metadata": {},
   "outputs": [],
   "source": [
    "class Tone:\n",
    "    def __init__(self, root, interval, duration=1, volume=100, parent=None, time=None):\n",
    "        if parent is None and time is None:\n",
    "            time = 0\n",
    "        self.parent = parent\n",
    "        self.time = time    \n",
    "        self.root = root\n",
    "        if type(interval) == str:\n",
    "            self.interval = intervals[interval]\n",
    "        else:\n",
    "            self.interval = interval\n",
    "        self.duration = duration\n",
    "        self.volume = volume\n",
    "        \n",
    "    #def __getattr__(self, name):\n",
    "    def __getattribute__(self, name):\n",
    "        if name == 'time' and self.parent is not None:\n",
    "            return self.parent.time + self.parent.duration\n",
    "        else:\n",
    "            return object.__getattribute__(self,name)\n",
    "            \n",
    "    \n",
    "    def add_note(self, midi_file, track, channel):\n",
    "        if self.parent is not None:\n",
    "            time = self.parent.time + self.parent.duration\n",
    "        elif self.time is not None:\n",
    "            time = self.time\n",
    "        else:\n",
    "            raise ValueError(\"Parent and/or time was messed with - don't do that!\")\n",
    "        \n",
    "        midi_file.addNote(track, channel, self.root + self.interval, time, self.duration, self.volume)"
   ]
  },
  {
   "cell_type": "code",
   "execution_count": 12,
   "metadata": {},
   "outputs": [],
   "source": [
    "class Chord:\n",
    "    def __init__(self, root, constituents, duration=1, volume=100, parent=None, time=None):\n",
    "        if parent is None and time is None:\n",
    "            time = 0\n",
    "        self.parent = parent\n",
    "        self.time = time    \n",
    "        self.root = root\n",
    "        self.constituents = []\n",
    "        for interval in constituents:\n",
    "            if type(interval) == str:\n",
    "                self.constituents.append(intervals[interval])\n",
    "            else:\n",
    "                self.constituents.append(interval)\n",
    "        self.duration = duration\n",
    "        self.volume = volume\n",
    "\n",
    "    def __getattribute__(self, name):\n",
    "        if name == 'time' and self.parent is not None:\n",
    "            return self.parent.time + self.parent.duration\n",
    "        else:\n",
    "            return object.__getattribute__(self,name)\n",
    "            \n",
    "    \n",
    "    def add_note(self, midi_file, track, channel):\n",
    "        if self.parent is not None:\n",
    "            time = self.parent.time + self.parent.duration\n",
    "        elif self.time is not None:\n",
    "            time = self.time\n",
    "        else:\n",
    "            raise ValueError(\"Parent and/or time was messed with - don't do that!\")\n",
    "        \n",
    "        for interval in self.constituents:\n",
    "            midi_file.addNote(track, channel, self.root + interval, time, self.duration, self.volume)"
   ]
  },
  {
   "cell_type": "code",
   "execution_count": 13,
   "metadata": {},
   "outputs": [],
   "source": [
    "def interval2pitch(ints):\n",
    "    return list(map(lambda x: intervals[x], ints))"
   ]
  },
  {
   "cell_type": "code",
   "execution_count": 14,
   "metadata": {},
   "outputs": [],
   "source": [
    "major_scale = np.array([0,2,4,5,7,9,11])\n",
    "major_blues = np.array(interval2pitch(['1','2','b3','3','5','6']))\n",
    "minor_blues = np.array(interval2pitch(['1','b3','4','b5','5','b7']))"
   ]
  },
  {
   "cell_type": "code",
   "execution_count": 15,
   "metadata": {},
   "outputs": [],
   "source": [
    "scale = major_scale\n",
    "scale_probabilities = np.eye(12)[scale].sum(0)/len(scale)"
   ]
  },
  {
   "cell_type": "code",
   "execution_count": 93,
   "metadata": {
    "scrolled": true
   },
   "outputs": [
    {
     "name": "stdout",
     "output_type": "stream",
     "text": [
      "Generating durations\n",
      "16\n",
      "[0, 0.5, 0.5]\n",
      "3\n",
      "3\n",
      "5.333333333333333\n",
      "[0, 0.5, 0.5]\n",
      "3\n",
      "5\n",
      "1.7777777777777777\n",
      "[0.5, 0.25, 0.25]\n",
      "3\n",
      "7\n",
      "0.5925925925925926\n",
      "[0.9, 0.05, 0.05]\n",
      "1\n",
      "6\n",
      "0.5925925925925926\n",
      "[0.9, 0.05, 0.05]\n",
      "1\n",
      "5\n",
      "0.5925925925925926\n",
      "[0.9, 0.05, 0.05]\n",
      "1\n",
      "4\n",
      "1.7777777777777777\n",
      "[0.5, 0.25, 0.25]\n",
      "2\n",
      "5\n",
      "0.8888888888888888\n",
      "[0.9, 0.05, 0.05]\n",
      "1\n",
      "4\n",
      "0.8888888888888888\n",
      "[0.9, 0.05, 0.05]\n",
      "1\n",
      "3\n",
      "1.7777777777777777\n",
      "[0.5, 0.25, 0.25]\n",
      "1\n",
      "2\n",
      "5.333333333333333\n",
      "[0, 0.5, 0.5]\n",
      "2\n",
      "3\n",
      "2.6666666666666665\n",
      "[0.5, 0.25, 0.25]\n",
      "1\n",
      "2\n",
      "2.6666666666666665\n",
      "[0.5, 0.25, 0.25]\n",
      "2\n",
      "3\n",
      "1.3333333333333333\n",
      "[0.5, 0.25, 0.25]\n",
      "3\n",
      "5\n",
      "0.4444444444444444\n",
      "[0.9, 0.05, 0.05]\n",
      "1\n",
      "4\n",
      "0.4444444444444444\n",
      "[0.9, 0.05, 0.05]\n",
      "1\n",
      "3\n",
      "0.4444444444444444\n",
      "[0.9, 0.05, 0.05]\n",
      "1\n",
      "2\n",
      "1.3333333333333333\n",
      "[0.5, 0.25, 0.25]\n",
      "1\n",
      "1\n",
      "5.333333333333333\n",
      "[0, 0.5, 0.5]\n",
      "3\n",
      "3\n",
      "1.7777777777777777\n",
      "[0.5, 0.25, 0.25]\n",
      "3\n",
      "5\n",
      "0.5925925925925926\n",
      "[0.9, 0.05, 0.05]\n",
      "1\n",
      "4\n",
      "0.5925925925925926\n",
      "[0.9, 0.05, 0.05]\n",
      "1\n",
      "3\n",
      "0.5925925925925926\n",
      "[0.9, 0.05, 0.05]\n",
      "1\n",
      "2\n",
      "1.7777777777777777\n",
      "[0.5, 0.25, 0.25]\n",
      "1\n",
      "1\n",
      "1.7777777777777777\n",
      "[0.5, 0.25, 0.25]\n",
      "3\n",
      "3\n",
      "0.5925925925925926\n",
      "[0.9, 0.05, 0.05]\n",
      "1\n",
      "2\n",
      "0.5925925925925926\n",
      "[0.9, 0.05, 0.05]\n",
      "1\n",
      "1\n",
      "0.5925925925925926\n",
      "[0.9, 0.05, 0.05]\n",
      "1\n",
      "0\n",
      "Generating_pitches\n",
      "[0.5925925925925926, 0.5925925925925926, 0.5925925925925926, 0.8888888888888888, 0.8888888888888888, 1.7777777777777777, 2.6666666666666665, 0.4444444444444444, 0.4444444444444444, 0.4444444444444444, 1.3333333333333333, 0.5925925925925926, 0.5925925925925926, 0.5925925925925926, 1.7777777777777777, 0.5925925925925926, 0.5925925925925926, 0.5925925925925926]\n",
      "Genrating Tone objects\n",
      "7 for 0.5925925925925926\n",
      "4 for 0.5925925925925926\n",
      "11 for 0.8888888888888888\n",
      "5 for 0.8888888888888888\n",
      "5 for 1.7777777777777777\n",
      "0 for 2.6666666666666665\n",
      "2 for 0.4444444444444444\n",
      "2 for 0.4444444444444444\n",
      "9 for 0.4444444444444444\n",
      "4 for 1.3333333333333333\n",
      "2 for 0.5925925925925926\n",
      "11 for 0.5925925925925926\n",
      "11 for 0.5925925925925926\n",
      "0 for 1.7777777777777777\n",
      "2 for 0.5925925925925926\n",
      "11 for 0.5925925925925926\n",
      "9 for 0.5925925925925926\n",
      "Writing to midi_file\n"
     ]
    }
   ],
   "source": [
    "# Binary tree rhythm generation\n",
    "remaining_durations = [16]\n",
    "binary_tree_durations = []\n",
    "print(\"Generating durations\")\n",
    "while len(remaining_durations) > 0:\n",
    "    current_duration = remaining_durations.pop()\n",
    "    print(current_duration)\n",
    "    if current_duration > 4:\n",
    "        probs = [0, 0.5, 0.5]\n",
    "    elif current_duration > 1:\n",
    "        probs = [0.5, 0.25, 0.25]\n",
    "    else:\n",
    "        probs = [0.9, 0.05, 0.05]\n",
    "    print(probs)\n",
    "    flip = np.random.choice([1, 2, 3], p = probs)\n",
    "    print(flip)\n",
    "    if flip == 1:\n",
    "        binary_tree_durations.append(current_duration)\n",
    "    elif flip == 2:\n",
    "        remaining_durations.append(current_duration/2)\n",
    "        remaining_durations.append(current_duration/2)\n",
    "    elif flip == 3:\n",
    "        remaining_durations.append(current_duration/3)\n",
    "        remaining_durations.append(current_duration/3)\n",
    "        remaining_durations.append(current_duration/3)\n",
    "    print(len(remaining_durations))\n",
    "\n",
    "print(\"Generating_pitches\")\n",
    "binary_tree_pitches = [np.random.choice(range(0, 12), size = 1, p = scale_probabilities)[0]\n",
    "                       for _ in binary_tree_durations]\n",
    "\n",
    "print(binary_tree_durations)\n",
    "\n",
    "\n",
    "midi_file = blank_midifile()\n",
    "midi_file.addProgramChange(track, channel+1, 0, 8)\n",
    "random_music = [Tone(pitch, binary_tree_pitches[0], binary_tree_durations[0], time=0)]\n",
    "print(\"Genrating Tone objects\")\n",
    "for interval, duration in zip(binary_tree_pitches[1:], binary_tree_durations[1:]):\n",
    "    print(f\"{interval} for {duration}\")\n",
    "    random_music.append(Tone(pitch, interval, duration, parent=random_music[-1]))\n",
    "\n",
    "print(\"Writing to midi_file\")\n",
    "for x in random_music:\n",
    "    x.add_note(midi_file, track, channel)"
   ]
  },
  {
   "cell_type": "code",
   "execution_count": null,
   "metadata": {},
   "outputs": [],
   "source": [
    "def bjorklund(m,k,rhythm = None):\n",
    "    # generates Euclidean rhythms, i.e. rhythms where beats are spread out as evenly as possible across the measure\n",
    "    # this is basically euclid's algorithm, see http://cgm.cs.mcgill.ca/~godfried/publications/banff.pdf\n",
    "    if rhythm is None:\n",
    "        rhythm = k*[[1]] + (m-k)*[[0]]\n",
    "    #print(rhythm)\n",
    "    if m%k == 0:\n",
    "        # flatten list\n",
    "        return [beat for seq in rhythm for beat in seq]\n",
    "    else:\n",
    "        if k>m-k:\n",
    "            rhythm = [seq+rhythm[-1] if i<(m%k) else seq for i,seq in enumerate(rhythm[:k])]\n",
    "        else:\n",
    "            rhythm = [seq+rhythm[-1] if i<k else seq for i,seq in enumerate(rhythm[:k+(m%k)])]\n",
    "        return bjorklund(k,m%k,rhythm)"
   ]
  },
  {
   "cell_type": "code",
   "execution_count": null,
   "metadata": {},
   "outputs": [],
   "source": [
    "bjorklund(4,1)"
   ]
  },
  {
   "cell_type": "code",
   "execution_count": 179,
   "metadata": {},
   "outputs": [],
   "source": [
    "def add_chord_progression(chord_progression, beats_per_chord = None, jazz = 0):\n",
    "    global midi_file\n",
    "    if beats_per_chord is None:\n",
    "        beats_per_chord = len(chord_progression)*[4]\n",
    "    elif type(beats_per_chord) != list:\n",
    "        beats_per_chord = len(chord_progression)*[beats_per_chord]\n",
    "        \n",
    "    chord = Chord(pitch, major_chord(chord_progression[0], jazzness=jazz), duration=beats_per_chord[0])\n",
    "    chord.add_note(midi_file, track, channel+1)\n",
    "    for ch,duration in zip(chord_progression[1:],beats_per_chord[1:]):\n",
    "        chord = Chord(pitch, major_chord(ch, jazzness=jazz), duration=duration, parent=chord)\n",
    "        chord.add_note(midi_file, track, channel+1)"
   ]
  },
  {
   "cell_type": "code",
   "execution_count": 198,
   "metadata": {},
   "outputs": [],
   "source": [
    "def add_melody(pitches, rhythm, root = 60):\n",
    "    random_music = []\n",
    "    random_music.append(Tone(60, pitches[0], rhythm[0], time=0))\n",
    "    for interval, duration in zip(pitches[1:], rhythm[1:]):\n",
    "        random_music.append(Tone(pitch, interval, duration, parent=random_music[-1]))\n",
    "\n",
    "    for x in random_music:\n",
    "        x.add_note(midi_file, track, channel)\n",
    "    return random_music"
   ]
  },
  {
   "cell_type": "code",
   "execution_count": 194,
   "metadata": {},
   "outputs": [],
   "source": [
    "midi_file = blank_midifile()\n",
    "midi_file.addProgramChange(track, channel+1, 0, 8)\n",
    "#add_chord_progression([1,5,4,3,4,1,4,5], beats_per_chord = sum(binary_tree_durations[:4]), jazz=0)\n",
    "add_chord_progression(()*[6,4,1,5], beats_per_chord = sum(binary_tree_durations[:4]), jazz=0)"
   ]
  },
  {
   "cell_type": "code",
   "execution_count": 195,
   "metadata": {
    "scrolled": true
   },
   "outputs": [
    {
     "data": {
      "text/plain": [
       "[<__main__.Tone at 0x7f6f6c4bf748>,\n",
       " <__main__.Tone at 0x7f6f6c4bf400>,\n",
       " <__main__.Tone at 0x7f6f6c4bf470>,\n",
       " <__main__.Tone at 0x7f6f6c4bf5c0>,\n",
       " <__main__.Tone at 0x7f6f6c4bfeb8>,\n",
       " <__main__.Tone at 0x7f6f6c4bf080>,\n",
       " <__main__.Tone at 0x7f6f6c4bfb70>,\n",
       " <__main__.Tone at 0x7f6f6c4bfb00>,\n",
       " <__main__.Tone at 0x7f6f6c4bf6d8>,\n",
       " <__main__.Tone at 0x7f6f6c4bf898>,\n",
       " <__main__.Tone at 0x7f6f6c4bf630>,\n",
       " <__main__.Tone at 0x7f6f6c4bfbe0>,\n",
       " <__main__.Tone at 0x7f6f6c4bf828>,\n",
       " <__main__.Tone at 0x7f6f6c4bf550>,\n",
       " <__main__.Tone at 0x7f6f6c4bf8d0>,\n",
       " <__main__.Tone at 0x7f6f6c4bf0f0>,\n",
       " <__main__.Tone at 0x7f6f6c7d6eb8>,\n",
       " <__main__.Tone at 0x7f6f6c7d6160>,\n",
       " <__main__.Tone at 0x7f6f6c7d60f0>,\n",
       " <__main__.Tone at 0x7f6f5a2dbba8>,\n",
       " <__main__.Tone at 0x7f6f5a2dbc18>,\n",
       " <__main__.Tone at 0x7f6f5a2600b8>,\n",
       " <__main__.Tone at 0x7f6f5a2600f0>,\n",
       " <__main__.Tone at 0x7f6f5a260240>,\n",
       " <__main__.Tone at 0x7f6f5a2601d0>,\n",
       " <__main__.Tone at 0x7f6f5a2602b0>,\n",
       " <__main__.Tone at 0x7f6f5a2603c8>,\n",
       " <__main__.Tone at 0x7f6f5a260470>,\n",
       " <__main__.Tone at 0x7f6f5a2604e0>,\n",
       " <__main__.Tone at 0x7f6f5a260550>,\n",
       " <__main__.Tone at 0x7f6f5a260860>,\n",
       " <__main__.Tone at 0x7f6f5a2606d8>]"
      ]
     },
     "execution_count": 195,
     "metadata": {},
     "output_type": "execute_result"
    }
   ],
   "source": [
    "add_melody(scale_step_to_pitch(motif_melody), motif_rhythm)"
   ]
  },
  {
   "cell_type": "code",
   "execution_count": 119,
   "metadata": {},
   "outputs": [],
   "source": [
    "def pitch_to_scale_step(melody):\n",
    "    scale_step2pitch = {major_o[i]:i for i in range(-20,20)}\n",
    "    return [scale_step2pitch[pitch] for pitch in melody]"
   ]
  },
  {
   "cell_type": "code",
   "execution_count": 120,
   "metadata": {},
   "outputs": [],
   "source": [
    "def scale_step_to_pitch(scale_steps):\n",
    "    return np.array([major_o[scale_step] for scale_step in scale_steps])"
   ]
  },
  {
   "cell_type": "code",
   "execution_count": 121,
   "metadata": {},
   "outputs": [],
   "source": [
    "def invert(melody):\n",
    "    melody = pitch_to_scale_step(melody)\n",
    "    inverted = melody[0] - np.cumsum(np.diff(melody,prepend = melody[0]))\n",
    "    return scale_step_to_pitch(inverted)"
   ]
  },
  {
   "cell_type": "code",
   "execution_count": 122,
   "metadata": {},
   "outputs": [],
   "source": [
    "def retrograde(melody):\n",
    "    melody = pitch_to_scale_step(melody)\n",
    "    retrograded = np.array(list(reversed(melody)))\n",
    "    return scale_step_to_pitch(retrograded)"
   ]
  },
  {
   "cell_type": "code",
   "execution_count": 123,
   "metadata": {},
   "outputs": [],
   "source": [
    "def identity(melody):\n",
    "    return melody"
   ]
  },
  {
   "cell_type": "code",
   "execution_count": 124,
   "metadata": {},
   "outputs": [],
   "source": [
    "def repeat_pieces_transformed(melody, transform, piece_length = 4):\n",
    "    transformed_melody = np.apply_along_axis(transform, 1, melody.reshape(piece_length,-1))\n",
    "    return np.c_[melody.reshape(piece_length,-1),transformed_melody].flatten()"
   ]
  },
  {
   "cell_type": "code",
   "execution_count": 60,
   "metadata": {},
   "outputs": [
    {
     "ename": "NameError",
     "evalue": "name 'bjorklund' is not defined",
     "output_type": "error",
     "traceback": [
      "\u001b[0;31m---------------------------------------------------------------------------\u001b[0m",
      "\u001b[0;31mNameError\u001b[0m                                 Traceback (most recent call last)",
      "\u001b[0;32m<ipython-input-60-07b485d839be>\u001b[0m in \u001b[0;36m<module>\u001b[0;34m\u001b[0m\n\u001b[1;32m      7\u001b[0m \u001b[0;31m#notes_per_measure, beats_per_measure = 5,8 # cinquillo\u001b[0m\u001b[0;34m\u001b[0m\u001b[0;34m\u001b[0m\u001b[0;34m\u001b[0m\u001b[0m\n\u001b[1;32m      8\u001b[0m \u001b[0mnotes_per_measure\u001b[0m\u001b[0;34m,\u001b[0m \u001b[0mbeats_per_measure\u001b[0m \u001b[0;34m=\u001b[0m \u001b[0;36m5\u001b[0m\u001b[0;34m,\u001b[0m\u001b[0;36m13\u001b[0m \u001b[0;31m# tresillo\u001b[0m\u001b[0;34m\u001b[0m\u001b[0;34m\u001b[0m\u001b[0m\n\u001b[0;32m----> 9\u001b[0;31m \u001b[0meuclidean_rhythm\u001b[0m \u001b[0;34m=\u001b[0m \u001b[0mbjorklund\u001b[0m\u001b[0;34m(\u001b[0m\u001b[0mbeats_per_measure\u001b[0m\u001b[0;34m,\u001b[0m \u001b[0mnotes_per_measure\u001b[0m\u001b[0;34m)\u001b[0m\u001b[0;34m\u001b[0m\u001b[0;34m\u001b[0m\u001b[0m\n\u001b[0m\u001b[1;32m     10\u001b[0m \u001b[0;31m#euclidean_rhythm = bjorklund(13,5) # tresillo\u001b[0m\u001b[0;34m\u001b[0m\u001b[0;34m\u001b[0m\u001b[0;34m\u001b[0m\u001b[0m\n\u001b[1;32m     11\u001b[0m \u001b[0;31m#euclidean_rhythm = bjorklund(2,3)\u001b[0m\u001b[0;34m\u001b[0m\u001b[0;34m\u001b[0m\u001b[0;34m\u001b[0m\u001b[0m\n",
      "\u001b[0;31mNameError\u001b[0m: name 'bjorklund' is not defined"
     ]
    }
   ],
   "source": [
    "melody = []\n",
    "signs = []\n",
    "#rhythm = []\n",
    "n_bars = 4\n",
    "\n",
    "#notes_per_measure, beats_per_measure = 4,16\n",
    "#notes_per_measure, beats_per_measure = 5,8 # cinquillo\n",
    "notes_per_measure, beats_per_measure = 5,13 # tresillo\n",
    "euclidean_rhythm = bjorklund(beats_per_measure, notes_per_measure)\n",
    "#euclidean_rhythm = bjorklund(13,5) # tresillo\n",
    "#euclidean_rhythm = bjorklund(2,3)\n",
    "#euclidean_rhythm = bjorklund(7,3)\n",
    "\n",
    "# interpret 1's as onsets, and 0's as continuation\n",
    "rhythm_in_measure = [0.5*(len(i)+1)for i in ''.join(map(str,euclidean_rhythm)).split('1')[1:]]\n",
    "#rhythm_in_measure = [0.25*(len(i)+1)for i in ''.join(map(str,euclidean_rhythm)).split('1')[1:]]\n",
    "rhythm = n_bars*rhythm_in_measure\n",
    "for _ in range(n_bars):\n",
    "    length = 0\n",
    "    for i in range(len(rhythm_in_measure)):\n",
    "    #while length < 4:\n",
    "        note = np.random.choice(range(0, 12), size = 1, p = scale_probabilities)\n",
    "        #sign = np.random.choice([-1,1],size=1)\n",
    "        #sign = 1\n",
    "        #duration = np.random.choice([0.25,0.5,1,1.25, 1.5, 1.75, 2], size=1)\n",
    "        #duration = np.random.choice([0.25,0.5,1, 2], size=1)\n",
    "        \n",
    "        melody.append(note)\n",
    "        #signs.append(sign)\n",
    "        #if duration > (4 - length):\n",
    "        #    duration = 4 - length\n",
    "        #rhythm.append(duration)\n",
    "        #length += duration\n",
    "melody = np.array(melody).flatten()\n",
    "rhythm = np.array(rhythm).flatten()\n",
    "signs = np.array(signs).flatten()"
   ]
  },
  {
   "cell_type": "code",
   "execution_count": null,
   "metadata": {},
   "outputs": [],
   "source": [
    "melody = repeat_pieces_transformed(melody, invert)"
   ]
  },
  {
   "cell_type": "code",
   "execution_count": null,
   "metadata": {},
   "outputs": [],
   "source": [
    "rhythm = repeat_pieces_transformed(rhythm, identity)"
   ]
  },
  {
   "cell_type": "code",
   "execution_count": null,
   "metadata": {},
   "outputs": [],
   "source": [
    "motif = np.array([4,3,4,1])\n",
    "\n",
    "skeleton = np.array([2,1,2,1,2,1])\n",
    "#skeleton = np.array([1,2,3,1])\n",
    "#skeleton = np.array([1,4,2,3,1])\n",
    "\n",
    "motif_melody = np.tile(motif,len(skeleton))+ skeleton.repeat(len(motif))\n",
    "\n",
    "motif_melody\n",
    "\n",
    "len(motif_melody)\n",
    "\n",
    "motif_melody = repeat_pieces_transformed(scale_step_to_pitch(motif_melody),identity,piece_length=4)\n",
    "\n",
    "motif_melody\n",
    "\n",
    "#motif_rhythm = len(skeleton)*binary_tree_durations[:4]\n",
    "motif_rhythm = (len(motif_melody)//4)*binary_tree_durations[:4]\n",
    "sum(binary_tree_durations[:4])"
   ]
  },
  {
   "cell_type": "code",
   "execution_count": 317,
   "metadata": {},
   "outputs": [],
   "source": [
    "def transform_notes(notes, transformations):\n",
    "    sequence = []\n",
    "    for n, t in zip(notes, transformations):\n",
    "        if t == 0:\n",
    "            sequence.append(0)\n",
    "            sequence.append(1)\n",
    "        elif t == 1:\n",
    "            sequence.append(0)\n",
    "            sequence.append(0)\n",
    "        elif t == 2:\n",
    "            sequence.append(0)\n",
    "            sequence.append(2)\n",
    "        elif t == 3:\n",
    "            sequence.append(1)\n",
    "            sequence.append(0)\n",
    "        elif t == 4:\n",
    "            sequence.append(1)\n",
    "            sequence.append(1)\n",
    "        elif t == 9:\n",
    "            sequence.append(9)\n",
    "            sequence.append(9)\n",
    "            \n",
    "            \n",
    "\n",
    "    notes_out = []\n",
    "    durations = []\n",
    "    current_note = None\n",
    "    current_duration = None\n",
    "    \n",
    "    for ii, event in enumerate(sequence):\n",
    "        if event == 0:\n",
    "            if current_note is not None:\n",
    "                notes_out.append(current_note)\n",
    "                durations.append(current_duration)\n",
    "            current_note = notes[ii//2]\n",
    "            current_duration = 0.5\n",
    "        elif event == 1:\n",
    "            current_duration += 0.5\n",
    "        elif event == 2:\n",
    "            notes_out.append(current_note)\n",
    "            durations.append(current_duration)\n",
    "\n",
    "            current_note = notes[ii//2 + 1]\n",
    "            current_duration = 0.5\n",
    "        elif event == 9:\n",
    "            // Pauser er ikke mulige i vores nuvæ\n",
    "            pass\n",
    "    return (notes_out, durations)"
   ]
  },
  {
   "cell_type": "code",
   "execution_count": 392,
   "metadata": {},
   "outputs": [
    {
     "data": {
      "text/plain": [
       "0"
      ]
     },
     "execution_count": 392,
     "metadata": {},
     "output_type": "execute_result"
    }
   ],
   "source": [
    "gfi_motif = np.array([0,-2,-2,-3])\n",
    "#gfi_motif = np.array([0,1,2,2])\n",
    "1//2"
   ]
  },
  {
   "cell_type": "code",
   "execution_count": 393,
   "metadata": {},
   "outputs": [],
   "source": [
    "gfi_skeleton = np.array([1,1,1,1,0,-1])\n",
    "#gfi_skeleton = np.array([2,2,3,4,2,2])"
   ]
  },
  {
   "cell_type": "code",
   "execution_count": 394,
   "metadata": {},
   "outputs": [],
   "source": [
    "motif_melody = np.tile(gfi_motif,len(gfi_skeleton))+ gfi_skeleton.repeat(len(gfi_motif))"
   ]
  },
  {
   "cell_type": "code",
   "execution_count": 395,
   "metadata": {},
   "outputs": [],
   "source": [
    "motif_melody = scale_step_to_pitch(motif_melody)"
   ]
  },
  {
   "cell_type": "code",
   "execution_count": 396,
   "metadata": {},
   "outputs": [],
   "source": [
    "gfi_transforms = [0, 0, 0, 2, 4, 2, 3, 3,0, 0, 0, 2, 3, 2, 3, 0,0, 2, 3, 2, 3, 3, 3, 0,0]"
   ]
  },
  {
   "cell_type": "code",
   "execution_count": 387,
   "metadata": {},
   "outputs": [],
   "source": [
    "transforms = np.random.choice(np.arange(5),8*3+1,p=[0.6,0.1,0.1,0.1,0.1])"
   ]
  },
  {
   "cell_type": "code",
   "execution_count": 388,
   "metadata": {},
   "outputs": [],
   "source": [
    "transformed_melody, transformed_durations = transform_notes(motif_melody, transforms)"
   ]
  },
  {
   "cell_type": "code",
   "execution_count": 389,
   "metadata": {},
   "outputs": [],
   "source": [
    "midi_file = blank_midifile()\n",
    "midi_file.addProgramChange(track, channel+1, 0, 8)"
   ]
  },
  {
   "cell_type": "code",
   "execution_count": 390,
   "metadata": {},
   "outputs": [
    {
     "data": {
      "text/plain": [
       "[<__main__.Tone at 0x7f6f6c4a52e8>,\n",
       " <__main__.Tone at 0x7f6f6c4a5550>,\n",
       " <__main__.Tone at 0x7f6f6c4a5748>,\n",
       " <__main__.Tone at 0x7f6f6c4a57b8>,\n",
       " <__main__.Tone at 0x7f6f6c4a5320>,\n",
       " <__main__.Tone at 0x7f6f6c4a5438>,\n",
       " <__main__.Tone at 0x7f6f6c4a5630>,\n",
       " <__main__.Tone at 0x7f6f6c4a58d0>,\n",
       " <__main__.Tone at 0x7f6f6c4a5ba8>,\n",
       " <__main__.Tone at 0x7f6f6c4a5940>,\n",
       " <__main__.Tone at 0x7f6f6c4a5978>,\n",
       " <__main__.Tone at 0x7f6f6c4a55c0>,\n",
       " <__main__.Tone at 0x7f6f6c4a56a0>,\n",
       " <__main__.Tone at 0x7f6f6c4a5588>,\n",
       " <__main__.Tone at 0x7f6f6c4a5b00>,\n",
       " <__main__.Tone at 0x7f6f6c4a5f60>,\n",
       " <__main__.Tone at 0x7f6f6c4a5e48>,\n",
       " <__main__.Tone at 0x7f6f6c4a5a20>,\n",
       " <__main__.Tone at 0x7f6f6c4a5c18>,\n",
       " <__main__.Tone at 0x7f6f6c4a5cf8>,\n",
       " <__main__.Tone at 0x7f6f6c4a5860>,\n",
       " <__main__.Tone at 0x7f6f6c4a5780>,\n",
       " <__main__.Tone at 0x7f6f6c4a5f28>]"
      ]
     },
     "execution_count": 390,
     "metadata": {},
     "output_type": "execute_result"
    }
   ],
   "source": [
    "add_melody(transformed_melody, transformed_durations, root=53) # 53 is F"
   ]
  },
  {
   "cell_type": "code",
   "execution_count": 351,
   "metadata": {},
   "outputs": [],
   "source": [
    "gfi_chords = [1,1,2,2,2,5,1]\n",
    "add_chord_progression(gfi_chords, beats_per_chord = 4, jazz=1)"
   ]
  },
  {
   "cell_type": "code",
   "execution_count": 352,
   "metadata": {},
   "outputs": [],
   "source": [
    "# common jazz progression II-V-I\n",
    "#add_chord_progression([2,5,1,1], jazz=1)\n",
    "\n",
    "# pachabel's canon I-V-vi-iii-IV-I-IV-V\n",
    "# add_chord_progression([1,5,4,3,4,1,4,5], beats_per_chord = 2, jazz=0)\n",
    "\n",
    "# four chord song\n",
    "#add_chord_progression([6,4,1,5], beats_per_chord = 4, jazz=0)\n",
    "#add_chord_progression([1,5,6,4], beats_per_chord = 4, jazz=0)\n",
    "\n",
    "# 12-bar blues\n",
    "#add_chord_progression([1,1,1,1,4,4,1,1,5,4,1,1], beats_per_chord = 2, jazz=0)\n",
    "\n",
    "# blues\n",
    "#add_chord_progression([1,4,1,1,4,4,1,1,5,4,1,5], beats_per_chord = 4, jazz=0)\n",
    "\n",
    "#music = add_melody(melody, rhythm)"
   ]
  },
  {
   "cell_type": "code",
   "execution_count": 391,
   "metadata": {
    "scrolled": false
   },
   "outputs": [],
   "source": [
    "for midi_track in midi_file.tracks:\n",
    "    midi_track.closeTrack()\n",
    "with open('tmp.mid','wb') as f:\n",
    "    midi_file.writeFile(f)\n",
    "\n",
    "play_music('tmp.mid')"
   ]
  },
  {
   "cell_type": "code",
   "execution_count": null,
   "metadata": {},
   "outputs": [],
   "source": [
    "import matplotlib.pylab as plt"
   ]
  },
  {
   "cell_type": "code",
   "execution_count": null,
   "metadata": {},
   "outputs": [],
   "source": [
    "x = np.cumsum(rhythm)"
   ]
  },
  {
   "cell_type": "code",
   "execution_count": null,
   "metadata": {},
   "outputs": [],
   "source": [
    "plt.plot([0] + list(x[:-1]), melody,'.')"
   ]
  },
  {
   "cell_type": "code",
   "execution_count": 182,
   "metadata": {},
   "outputs": [],
   "source": [
    "midi_file = blank_midifile()\n",
    "the_lick = []\n",
    "the_lick.append(Tone(pitch, 1, 0.5, time=0))\n",
    "for interval, duration in [(2, 0.5), (3, 0.5), (5, 0.5), (2, 1), (-2, 0.5), (0, 1.5)]:\n",
    "    the_lick.append(Tone(pitch, interval, duration, parent=the_lick[-1]))\n",
    "\n",
    "for x in the_lick:\n",
    "    x.add_note(midi_file, track, channel)"
   ]
  },
  {
   "cell_type": "code",
   "execution_count": null,
   "metadata": {},
   "outputs": [],
   "source": []
  }
 ],
 "metadata": {
  "kernelspec": {
   "display_name": "Python 3",
   "language": "python",
   "name": "python3"
  },
  "language_info": {
   "codemirror_mode": {
    "name": "ipython",
    "version": 3
   },
   "file_extension": ".py",
   "mimetype": "text/x-python",
   "name": "python",
   "nbconvert_exporter": "python",
   "pygments_lexer": "ipython3",
   "version": "3.7.3"
  }
 },
 "nbformat": 4,
 "nbformat_minor": 2
}
